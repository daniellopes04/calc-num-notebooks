{
 "cells": [
  {
   "cell_type": "markdown",
   "metadata": {},
   "source": [
    "#### 1) Considere a função $f(x) = sen\\left(\\frac{\\pi x}{2}\\right)$ e seja $P_n(x)$ seu polinômio de Taylor de ordem $n$ na origem. Determine $n$ de modo que, para todo $0 ≤ x ≤ 2\\pi$, o polinômio $P_n(x)$ seja uma aproximação de $f(x)$ para a qual as 6 primeiras casas decimais são corretas.\n",
    "\n",
    "Temos que o polinômio de Taylor é definido por:\n",
    "\n",
    "$$ P(x) = f(x_0) + f'(x_0)\\frac{(x - x_0)^1}{1!} + f''(x_0)\\frac{(x - x_0)^2}{2!} + ... + f^{(n)}(x_0)\\frac{(x - x_0)^n}{n!} $$\n",
    "\n",
    "Para a função $f(x) = sen\\left(\\frac{\\pi x}{2}\\right)$, temos:\n",
    "\n",
    "$$ x_0 = 0 $$ \n",
    "\n",
    "$$ P(x) = sen(0) + \\left(\\frac{\\pi}{2}\\right) cos(0) \\left(\\frac{x ^ 1}{1!}\\right)  - \\left(\\frac{\\pi}{2}\\right)^2 sen(0) \\left(\\frac{x ^ 2}{2!}\\right)  - \\left(\\frac{\\pi}{2}\\right)^3 cos(0) \\left(\\frac{x ^ 3}{3!}\\right)  + \\left(\\frac{\\pi}{2}\\right)^4 sen(0) \\left(\\frac{x ^ 4}{4!}\\right)  + ...$$\n",
    "\n",
    "Vemos que, sempre que o termo tiver a função sen, ele será zerado, pois $\\pm sen(0) = 0$. Assim, todos os termos elevados a potências pares da série serão zerados, sobrando somente os termos com $cos$. Além disso, também percebemos que o sinal precedente aos termos com cosseno varia, o que nos dá como resultado:\n",
    "\n",
    "$$ P(x) = \\left(\\frac{\\pi}{2}\\right) x - \\left(\\frac{\\pi}{2}\\right)^3\\frac{x^3}{3!} + \\left(\\frac{\\pi}{2}\\right)^5\\frac{x^5}{5!} - \\left(\\frac{\\pi}{2}\\right)^7\\frac{x^7}{7!} + ...$$\n",
    "\n",
    "Ou seja, temos como termo geral $ P_n(x) $:\n",
    "\n",
    "$$ P_n(x) = (-1)^n \\left(\\frac{\\pi}{2}\\right)^{2n+1}\\frac{x ^ {2n+1}}{(2n+1)!} $$ "
   ]
  },
  {
   "cell_type": "code",
   "execution_count": 34,
   "metadata": {},
   "outputs": [
    {
     "data": {
      "text/plain": [
       "fatorial (generic function with 2 methods)"
      ]
     },
     "execution_count": 34,
     "metadata": {},
     "output_type": "execute_result"
    }
   ],
   "source": [
    "# função recursiva para cálculo de fatorial\n",
    "# vamos precisar para calcular o denominador dos termos da série\n",
    "function fatorial(n :: Float64)\n",
    "    if(n < 0)\n",
    "        error(\"'n' precisa ser maior que 0\")\n",
    "    elseif (n == 0)\n",
    "        return 1\n",
    "    else\n",
    "        return n * fatorial(n-1)\n",
    "    end\n",
    "end"
   ]
  },
  {
   "cell_type": "code",
   "execution_count": 35,
   "metadata": {},
   "outputs": [
    {
     "data": {
      "text/plain": [
       "sen_taylor (generic function with 1 method)"
      ]
     },
     "execution_count": 35,
     "metadata": {},
     "output_type": "execute_result"
    }
   ],
   "source": [
    "# funcao que retorna o número mínimo n de modo que para todo 0 <= x <= 2π, \n",
    "# o polinomio de taylor da função f(x) = π/2 * x tenha precisão mínima de e\n",
    "function sen_taylor(e)\n",
    "    n = 0.0\n",
    "    for x = 0.0:2 * π\n",
    "        k = 0.0\n",
    "        soma = 0.0\n",
    "        real = sin(π/2 * x)\n",
    "\n",
    "        while abs(soma - real) >= e\n",
    "            soma += (-1)^k * (π/2)^(2*k + 1) * x^(2*k + 1) / fatorial(2*k + 1)   \n",
    "            k += 1\n",
    "        end\n",
    "        \n",
    "        if k > n\n",
    "            n = k\n",
    "        end\n",
    "    end\n",
    "    return n+1\n",
    "end"
   ]
  },
  {
   "cell_type": "code",
   "execution_count": 36,
   "metadata": {},
   "outputs": [
    {
     "data": {
      "text/plain": [
       "16.0"
      ]
     },
     "execution_count": 36,
     "metadata": {},
     "output_type": "execute_result"
    }
   ],
   "source": [
    "sen_taylor(1e-6)"
   ]
  },
  {
   "cell_type": "markdown",
   "metadata": {},
   "source": [
    "Assim, vemos que o n é igual a 16"
   ]
  },
  {
   "cell_type": "markdown",
   "metadata": {},
   "source": [
    "#### 4) Use um polinômio de Taylor para aproximar $\\sqrt{1.01}$ corretamente em seis casas decimais. Defina explicitamente a função $f(x)$ usada e o ponto em torno do qual o polinômio é calculado.\n",
    "\n",
    "Podemos definir a função $f(x) = \\sqrt{x + 1}$ para calcular uma aproximação, definindo $x = 0.01$. Assim, temos:\n",
    "\n",
    "$$ f(x) = \\sqrt{x + 1} = \\sqrt{0.01 + 1} = \\sqrt{1.01} $$\n",
    "\n",
    "Temos que o polinômio de Taylor é definido por:\n",
    "\n",
    "$$ P(x) = f(x_0) + f'(x_0)\\frac{(x - x_0)^1}{1!} + f''(x_0)\\frac{(x - x_0)^2}{2!} + ... + f^{(n)}(x_0)\\frac{(x - x_0)^n}{n!} $$\n",
    "\n",
    "Para a $f(x)$ definida, com o polinômio de grau 2, no intervalo $[0, 0.01]$ temos:\n",
    "\n",
    "$$ x_0 = 0, x = 0.01 $$\n",
    "\n",
    "$$ P_2(x) = f(0) + f'(0)\\frac{(x - 0)^1}{1!} + f''(0)\\frac{(x - 0)^2}{2!} $$\n",
    "\n",
    "$$ P_2(x) = \\sqrt{1} + \\frac{1}{2}\\left(\\frac{x^1}{1!}\\right) + \\frac{1}{2}\\left(\\frac{1}{2}-1\\right)\\frac{x^2}{2!}$$\n",
    "\n",
    "$$ P_2(x) = 1 + \\frac{x}{2} - \\frac{x^2}{8}$$\n",
    "\n",
    "$$ P_2(x) = 1 + \\frac{0.01}{2} - \\frac{0.01^2}{8}$$\n",
    "\n",
    "Logo, temos que: \n",
    "\n",
    "$$\\sqrt{1.01} \\approx 1 + \\frac{0.01}{2} - \\frac{0.01^2}{8} = 1.0049875$$"
   ]
  },
  {
   "cell_type": "code",
   "execution_count": 37,
   "metadata": {},
   "outputs": [
    {
     "data": {
      "text/plain": [
       "1.0049875"
      ]
     },
     "execution_count": 37,
     "metadata": {},
     "output_type": "execute_result"
    }
   ],
   "source": [
    "1 + (0.01 / 2) - (0.01^2 / 8)"
   ]
  },
  {
   "cell_type": "code",
   "execution_count": 39,
   "metadata": {},
   "outputs": [
    {
     "data": {
      "text/plain": [
       "1.004987562112089"
      ]
     },
     "execution_count": 39,
     "metadata": {},
     "output_type": "execute_result"
    }
   ],
   "source": [
    "sqrt(1.01)"
   ]
  },
  {
   "cell_type": "markdown",
   "metadata": {},
   "source": [
    "#### 5) Seja $f(x) = ln(x + 1)$. Aproxime $f(1.5)$ usando o polinômio de Taylor de terceira ordem. Quantos dígitos corretos possui a aproximação? Quantos termos deve ter o polinômio para o erro de truncamento ser menor que $10^{−8}$?\n",
    "\n",
    "Temos que o polinômio de Taylor é definido por:\n",
    "\n",
    "$$ P(x) = f(x_0) + f'(x_0)\\frac{(x - x_0)^1}{1!} + f''(x_0)\\frac{(x - x_0)^2}{2!} + ... + f^{(n)}(x_0)\\frac{(x - x_0)^n}{n!} $$\n",
    "\n",
    "Para $f(x)$, usando o polinômio de terceira ordem, temos:\n",
    "\n",
    "$$ P_3(x) = ln(x_0+1) + \\frac{1}{x_0+1}\\frac{(x - x_0)^1}{1!} - \\frac{1}{(x_0+1)^2} \\frac{(x - x_0)^2}{2!} + \\frac{2}{(x_0+1)^3} \\frac{(x - x_0)^3}{3!}$$\n",
    "\n",
    "Vamos definir o intervalo como:\n",
    "\n",
    "$$ x_0 = 0, x = 0.5 $$\n",
    "\n",
    "Logo:\n",
    "\n",
    "$$ P_3(0.5) = 0.5 - \\frac{0.5^2}{2} + \\frac{2(0.5)^3}{6}$$"
   ]
  },
  {
   "cell_type": "code",
   "execution_count": 40,
   "metadata": {},
   "outputs": [
    {
     "data": {
      "text/plain": [
       "0.4166666666666667"
      ]
     },
     "execution_count": 40,
     "metadata": {},
     "output_type": "execute_result"
    }
   ],
   "source": [
    "x = 0.5\n",
    "x - x^2/2 + (2*x^3)/6"
   ]
  },
  {
   "cell_type": "code",
   "execution_count": 41,
   "metadata": {},
   "outputs": [
    {
     "data": {
      "text/plain": [
       "0.4054651081081644"
      ]
     },
     "execution_count": 41,
     "metadata": {},
     "output_type": "execute_result"
    }
   ],
   "source": [
    "log(ℯ, 1.5)"
   ]
  },
  {
   "cell_type": "markdown",
   "metadata": {},
   "source": [
    "Vemos que o resultado obtido só tem uma casa decimal de precisão.\n",
    "\n",
    "Para sabermos o número de termos necessários para obter erro menor que $10^{-8}$, vejamos a fórmula de um termo geral do polinômio de Taylor para a $f(x) = ln(x+1)$:\n",
    "\n",
    "$$ P_n(x) = \\frac{(-1)^n}{n+1}x^{n+1} $$"
   ]
  },
  {
   "cell_type": "code",
   "execution_count": 42,
   "metadata": {},
   "outputs": [
    {
     "data": {
      "text/plain": [
       "ln_taylor (generic function with 1 method)"
      ]
     },
     "execution_count": 42,
     "metadata": {},
     "output_type": "execute_result"
    }
   ],
   "source": [
    "# funcao que retorna o número de termos k para que\n",
    "# o polinomio de taylor da função f(x) = ln(x+1) tenha precisão mínima de e\n",
    "function ln_taylor(e)\n",
    "    k = 0.0\n",
    "    soma = 0.0\n",
    "    real = log(ℯ, 1.5)\n",
    "\n",
    "    while abs(soma - real) >= e\n",
    "        soma += (-1)^k / (k+1) * (x^(k + 1))\n",
    "        k += 1\n",
    "    end\n",
    "    \n",
    "    return \"aproximação:\", soma, \"real:\", real, \"n_termos:\", k+1\n",
    "end"
   ]
  },
  {
   "cell_type": "code",
   "execution_count": 33,
   "metadata": {},
   "outputs": [
    {
     "data": {
      "text/plain": [
       "(\"aproximação:\", 0.4054651154407084, \"real:\", 0.4054651081081644, \"n_termos:\", 22.0)"
      ]
     },
     "execution_count": 33,
     "metadata": {},
     "output_type": "execute_result"
    }
   ],
   "source": [
    "ln_taylor(1e-8)"
   ]
  },
  {
   "cell_type": "markdown",
   "metadata": {},
   "source": [
    "Portanto, precisamos de 22 termos para obter a precisão desejada."
   ]
  }
 ],
 "metadata": {
  "kernelspec": {
   "display_name": "Julia 1.5.3",
   "language": "julia",
   "name": "julia-1.5"
  },
  "language_info": {
   "file_extension": ".jl",
   "mimetype": "application/julia",
   "name": "julia",
   "version": "1.5.3"
  }
 },
 "nbformat": 4,
 "nbformat_minor": 2
}
