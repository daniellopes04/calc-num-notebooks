{
 "cells": [
  {
   "cell_type": "markdown",
   "metadata": {},
   "source": [
    "#### 1) (a)\n",
    "\n",
    "Vamos utilizar a função que realiza o cálculo do zero da função utilizando o método da bisseção abaixo."
   ]
  },
  {
   "cell_type": "code",
   "execution_count": 31,
   "metadata": {},
   "outputs": [
    {
     "data": {
      "text/plain": [
       "bissecao"
      ]
     },
     "execution_count": 31,
     "metadata": {},
     "output_type": "execute_result"
    }
   ],
   "source": [
    "\"\"\"\n",
    "    (x, fx, exitflag) = bissecao(f, a, b)\n",
    "\"\"\"\n",
    "function bissecao(f, a, b;\n",
    "                  atol = 1e-8, rtol = 1e-8,\n",
    "                  max_tempo = 10.0, max_iter = 1000,\n",
    "                  )\n",
    "    # atol = erro absoluto tolerado\n",
    "    # rtol = erro relativo tolerado\n",
    "    fa = f(a)\n",
    "    fb = f(b)\n",
    "    ϵ = atol + rtol * max(abs(fa), abs(fb))\n",
    "    ϵba = atol + rtol * abs(b - a)\n",
    "    \n",
    "    # antes de começar as iterações verificamos os pontos de entrada\n",
    "    # caso já sejam bons o suficiente, eles são retornados\n",
    "    if abs(fa) ≤ ϵ\n",
    "        return a, fa, :sucesso\n",
    "    elseif abs(fb) ≤ ϵ\n",
    "        return b, fb, :sucesso\n",
    "    elseif fa * fb ≥ 0\n",
    "        return a, fa, :falha_sinais_opostos\n",
    "    end\n",
    "    \n",
    "    # definimos o ponto médio inicial e o valor da função nesse ponto\n",
    "    x = (a + b) / 2\n",
    "    fx = f(x)\n",
    "    \n",
    "    # para acompanhar o número de iterações e tempo decorrido\n",
    "    # não queremos que o algoritmo execute indefinidamente\n",
    "    iter = 0\n",
    "    t0 = time()\n",
    "    Δt = time() - t0\n",
    "    \n",
    "    # critérios de parada\n",
    "    # caso o valor já esteja dentro do erro aceitável\n",
    "    resolvido = (abs(fx) ≤ ϵ || abs(b - a) ≤ ϵba)\n",
    "    \n",
    "    # caso não seja possível encontrar o zero em um número finito de iterações e tempo\n",
    "    cansado = (iter ≥ max_iter || Δt ≥ max_tempo)\n",
    "    \n",
    "    # enquanto não encontrarmos o zero da função ou\n",
    "    # enquanto o algoritmo não tiver exaurido suas tentativas\n",
    "    # fazemos a bisseção para tentar encontrar o zero\n",
    "    while !(resolvido || cansado)\n",
    "        # escolhemos o intervalo onde o zero se econtra\n",
    "        # ou seja, aquele com pontos com sinais opostos\n",
    "        if fa * fx < 0\n",
    "            b = x\n",
    "            fb = fx\n",
    "        else\n",
    "            a = x\n",
    "            fa = fx\n",
    "        end\n",
    "        \n",
    "        # definimos o novo ponto médio e o valor da função nesse ponto\n",
    "        x = (a + b) / 2\n",
    "        fx = f(x)\n",
    "        \n",
    "        # atualizamos as variáveis de controle de parada\n",
    "        iter += 1\n",
    "        Δt = time() - t0\n",
    "        resolvido = (abs(fx) ≤ ϵ || abs(b - a) ≤ ϵba)\n",
    "        cansado = (iter ≥ max_iter || Δt ≥ max_tempo)\n",
    "    end\n",
    "    \n",
    "    exitflag = :desconhecido\n",
    "    if resolvido\n",
    "        exitflag = :sucesso\n",
    "    elseif cansado\n",
    "        if iter ≥ max_iter\n",
    "            exitflag = :max_iter\n",
    "        else\n",
    "            exitflag = :max_tempo\n",
    "        end\n",
    "    end\n",
    "    \n",
    "    return x, fx, exitflag\n",
    "end"
   ]
  },
  {
   "cell_type": "code",
   "execution_count": 32,
   "metadata": {},
   "outputs": [
    {
     "data": {
      "text/plain": [
       "(0.45782470703125, 4.779584270142578e-6, :sucesso)"
      ]
     },
     "execution_count": 32,
     "metadata": {},
     "output_type": "execute_result"
    }
   ],
   "source": [
    "# função que queremos encontrar a solução\n",
    "f(x) = 3 * x - 2^x\n",
    "\n",
    "# intervalo\n",
    "a, b = 0.0, 1.0\n",
    "\n",
    "bissecao(f, a, b, atol=1e-5, rtol=1e-5)"
   ]
  },
  {
   "cell_type": "markdown",
   "metadata": {},
   "source": [
    "#### 2) \n",
    "\n",
    "Para encontrar o número máximo de iterações necessárias, basta alterar a função do método da bisseção utilizada acima para retornar também o número de iterações realizadas até encontrar uma solução com a precisão passada."
   ]
  },
  {
   "cell_type": "code",
   "execution_count": 33,
   "metadata": {},
   "outputs": [
    {
     "data": {
      "text/plain": [
       "bissecao2"
      ]
     },
     "execution_count": 33,
     "metadata": {},
     "output_type": "execute_result"
    }
   ],
   "source": [
    "\"\"\"\n",
    "    (x, fx, exitflag) = bissecao(f, a, b)\n",
    "\"\"\"\n",
    "function bissecao2(f, a, b;\n",
    "                  atol = 1e-8, rtol = 1e-8,\n",
    "                  max_tempo = 10.0, max_iter = 1000,\n",
    "                  )\n",
    "    # atol = erro absoluto tolerado\n",
    "    # rtol = erro relativo tolerado\n",
    "    fa = f(a)\n",
    "    fb = f(b)\n",
    "    ϵ = atol + rtol * max(abs(fa), abs(fb))\n",
    "    ϵba = atol + rtol * abs(b - a)\n",
    "    \n",
    "    # antes de começar as iterações verificamos os pontos de entrada\n",
    "    # caso já sejam bons o suficiente, eles são retornados\n",
    "    if abs(fa) ≤ ϵ\n",
    "        return a, fa, :sucesso\n",
    "    elseif abs(fb) ≤ ϵ\n",
    "        return b, fb, :sucesso\n",
    "    elseif fa * fb ≥ 0\n",
    "        return a, fa, :falha_sinais_opostos\n",
    "    end\n",
    "    \n",
    "    # definimos o ponto médio inicial e o valor da função nesse ponto\n",
    "    x = (a + b) / 2\n",
    "    fx = f(x)\n",
    "    \n",
    "    # para acompanhar o número de iterações e tempo decorrido\n",
    "    # não queremos que o algoritmo execute indefinidamente\n",
    "    iter = 0\n",
    "    t0 = time()\n",
    "    Δt = time() - t0\n",
    "    \n",
    "    # critérios de parada\n",
    "    # caso o valor já esteja dentro do erro aceitável\n",
    "    resolvido = (abs(fx) ≤ ϵ || abs(b - a) ≤ ϵba)\n",
    "    \n",
    "    # caso não seja possível encontrar o zero em um número finito de iterações e tempo\n",
    "    cansado = (iter ≥ max_iter || Δt ≥ max_tempo)\n",
    "    \n",
    "    # enquanto não encontrarmos o zero da função ou\n",
    "    # enquanto o algoritmo não tiver exaurido suas tentativas\n",
    "    # fazemos a bisseção para tentar encontrar o zero\n",
    "    while !(resolvido || cansado)\n",
    "        # escolhemos o intervalo onde o zero se econtra\n",
    "        # ou seja, aquele com pontos com sinais opostos\n",
    "        if fa * fx < 0\n",
    "            b = x\n",
    "            fb = fx\n",
    "        else\n",
    "            a = x\n",
    "            fa = fx\n",
    "        end\n",
    "        \n",
    "        # definimos o novo ponto médio e o valor da função nesse ponto\n",
    "        x = (a + b) / 2\n",
    "        fx = f(x)\n",
    "        \n",
    "        # atualizamos as variáveis de controle de parada\n",
    "        iter += 1\n",
    "        Δt = time() - t0\n",
    "        resolvido = (abs(fx) ≤ ϵ || abs(b - a) ≤ ϵba)\n",
    "        cansado = (iter ≥ max_iter || Δt ≥ max_tempo)\n",
    "    end\n",
    "    \n",
    "    exitflag = :desconhecido\n",
    "    if resolvido\n",
    "        exitflag = :sucesso\n",
    "    elseif cansado\n",
    "        if iter ≥ max_iter\n",
    "            exitflag = :max_iter\n",
    "        else\n",
    "            exitflag = :max_tempo\n",
    "        end\n",
    "    end\n",
    "    \n",
    "    return x, fx, iter, exitflag\n",
    "end"
   ]
  },
  {
   "cell_type": "code",
   "execution_count": 34,
   "metadata": {},
   "outputs": [
    {
     "data": {
      "text/plain": [
       "(1.37890625, 0.0007343888282775879, 7, :sucesso)"
      ]
     },
     "execution_count": 34,
     "metadata": {},
     "output_type": "execute_result"
    }
   ],
   "source": [
    "# função que queremos encontrar a solução\n",
    "f(x) = x^3 + x - 4\n",
    "\n",
    "# intervalo\n",
    "a, b = 1.0, 2.0\n",
    "\n",
    "bissecao2(f, a, b, atol=1e-3, rtol=1e-3)"
   ]
  },
  {
   "cell_type": "markdown",
   "metadata": {},
   "source": [
    "Temos como resultado, 7 iterações."
   ]
  },
  {
   "cell_type": "markdown",
   "metadata": {},
   "source": [
    "#### 6) \n",
    "\n",
    "Temos que os pontos críticos de uma função são definidos como os pontos onde sua derivada é nula. Assim, podemos passar para o método da bisseção a função:\n",
    "\n",
    "$$f'(x) = x + log(x)$$ \n",
    " \n",
    "\n",
    "Porém, precisamos definir um intervalo para o cálculo e, como a função tende ao infinito quando $x$ tende a zero, escolhemos o intervalo $[0.5, 1]$."
   ]
  },
  {
   "cell_type": "code",
   "execution_count": 42,
   "metadata": {},
   "outputs": [
    {
     "data": {
      "text/plain": [
       "(0.5671432912349701, 2.2801733834398874e-9, :sucesso)"
      ]
     },
     "execution_count": 42,
     "metadata": {},
     "output_type": "execute_result"
    }
   ],
   "source": [
    "# função que queremos encontrar a solução\n",
    "f(x) = x + log(x)\n",
    "\n",
    "# intervalo\n",
    "a, b = 0.5, 1.0\n",
    "\n",
    "bissecao(f, a, b)"
   ]
  },
  {
   "cell_type": "markdown",
   "metadata": {},
   "source": [
    "#### 7) \n",
    "\n",
    "Para encontrar a solução esperada com 10 iterações, basta passarmos a função e o intervalo nos parâmetros do nosso método, alterando o número máximo de iterações."
   ]
  },
  {
   "cell_type": "code",
   "execution_count": 43,
   "metadata": {},
   "outputs": [
    {
     "data": {
      "text/plain": [
       "(0.44742187499999997, -0.0011236267485612572, :max_iter)"
      ]
     },
     "execution_count": 43,
     "metadata": {},
     "output_type": "execute_result"
    }
   ],
   "source": [
    "# função que queremos encontrar a solução\n",
    "f(x) = tan(π*x) - 6\n",
    "\n",
    "# intervalo\n",
    "a, b = 0.0, 0.48\n",
    "\n",
    "bissecao(f, a, b, max_iter=10)"
   ]
  },
  {
   "cell_type": "markdown",
   "metadata": {},
   "source": [
    "Vemos que o valor obtido tem 4 casas decimais de precisão com o valor passado como solução $0.447431543$."
   ]
  }
 ],
 "metadata": {
  "kernelspec": {
   "display_name": "Julia 1.5.3",
   "language": "julia",
   "name": "julia-1.5"
  },
  "language_info": {
   "file_extension": ".jl",
   "mimetype": "application/julia",
   "name": "julia",
   "version": "1.5.3"
  }
 },
 "nbformat": 4,
 "nbformat_minor": 2
}
