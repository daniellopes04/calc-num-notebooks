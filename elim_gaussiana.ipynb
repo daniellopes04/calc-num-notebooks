{
 "cells": [
  {
   "cell_type": "markdown",
   "metadata": {},
   "source": [
    "# Eliminação Gaussiana\n",
    "\n",
    "Método de escalonamento utilizado na solução de sistemas lineares no formato $Ax = b$ com $ A \\in \\mathbb{R}, b \\in \\mathbb{R}^m, x \\in \\mathbb{R}^n$.\n",
    "\n",
    "## BLAS ( *Basic Linear Algebra Subroutines*)\n",
    "\n",
    "### BLAS nível 1 - $O(n)$\n",
    "\n",
    "**Exemplos:**\n",
    "\n",
    "$$ z = \\alpha x + y \\Rightarrow z_i = \\alpha x_i + y_i $$\n",
    "\n",
    "$$ \\beta = x^Ty \\Rightarrow \\sum_{i=1}^{n}x_iy_i $$\n",
    "\n",
    "### BLAS nível 2 - $O(n^2)$\n",
    "\n",
    "**Exemplos:**\n",
    "\n",
    "$$ y = Ax \\Rightarrow y_i = \\sum_{j=1}^{n}a_{ij}x_j = (a_{i.})^Tx_j $$\n",
    "\n",
    "### BLAS nível 3 - $O(n^3)$\n",
    "\n",
    "**Exemplos:**\n",
    "\n",
    "$$ C = AB \\Rightarrow c_{ij} = \\sum_{k=1}^{n}a_{ik}b_{kj} $$\n",
    "$$ A \\in \\mathbb{R}^{m \\times n}, B \\in \\mathbb{R}^{n \\times p}, C \\in \\mathbb{R}^{m \\times p} $$"
   ]
  },
  {
   "cell_type": "code",
   "execution_count": 2,
   "metadata": {},
   "outputs": [
    {
     "data": {
      "text/plain": [
       "3×4 Array{Float64,2}:\n",
       " 0.995753  1.59089  0.782919  2.03146\n",
       " 0.710461  1.44819  0.870257  2.05414\n",
       " 0.953441  1.9885   0.972007  2.40502"
      ]
     },
     "execution_count": 2,
     "metadata": {},
     "output_type": "execute_result"
    }
   ],
   "source": [
    "A = rand(3, 5)\n",
    "B = rand(5, 4)\n",
    " A * B"
   ]
  },
  {
   "cell_type": "code",
   "execution_count": 3,
   "metadata": {},
   "outputs": [
    {
     "data": {
      "text/plain": [
       "3×4 Array{Float64,2}:\n",
       " 0.995753  1.59089  0.782919  2.03146\n",
       " 0.710461  1.44819  0.870257  2.05414\n",
       " 0.953441  1.9885   0.972007  2.40502"
      ]
     },
     "execution_count": 3,
     "metadata": {},
     "output_type": "execute_result"
    }
   ],
   "source": [
    "# Exemplo de operação de BLAS nível 3\n",
    "# C = AB\n",
    "\n",
    "# iniciamos C com zeros\n",
    "C = zeros(3, 4)\n",
    "\n",
    "# loop para executar a multiplicação dos elementos de A e B\n",
    "for i = 1:3, j = 1:4\n",
    "    C[i,j] = sum(A[i,k] * B[k,j] for k = 1:5)\n",
    "end\n",
    "C"
   ]
  },
  {
   "cell_type": "code",
   "execution_count": 4,
   "metadata": {},
   "outputs": [
    {
     "data": {
      "text/plain": [
       "8"
      ]
     },
     "execution_count": 4,
     "metadata": {},
     "output_type": "execute_result"
    }
   ],
   "source": [
    "Float64.size"
   ]
  },
  {
   "cell_type": "code",
   "execution_count": 5,
   "metadata": {},
   "outputs": [
    {
     "data": {
      "text/plain": [
       "(2.2888031005859375, 74.50580596923828)"
      ]
     },
     "execution_count": 5,
     "metadata": {},
     "output_type": "execute_result"
    }
   ],
   "source": [
    "n = 100000\n",
    "Float64.size * (3n - 2) / 1024 / 1024, Float64.size * n^2 / 1024 / 1024 /1024"
   ]
  },
  {
   "cell_type": "markdown",
   "metadata": {},
   "source": [
    "Como podemos ver, para matrizes muito grandes precisamos nos preocupar com o espaço de armazenamento na memória. No exemplo acima, para uma matriz de 100.000 elementos, precisaríamos de somente 2 Mb para armazenar as três diagonais, porém, necessitamos de mais de 70 Gb para armazenar a matriz na sua completude."
   ]
  },
  {
   "cell_type": "code",
   "execution_count": 6,
   "metadata": {},
   "outputs": [
    {
     "name": "stderr",
     "output_type": "stream",
     "text": [
      "\u001b[32m\u001b[1m   Updating\u001b[22m\u001b[39m registry at `~/.julia/registries/General`\n",
      "######################################################################### 100,0%\n",
      "\u001b[32m\u001b[1m  Resolving\u001b[22m\u001b[39m package versions...\n",
      "\u001b[32m\u001b[1mNo Changes\u001b[22m\u001b[39m to `~/.julia/environments/v1.5/Project.toml`\n",
      "\u001b[32m\u001b[1mNo Changes\u001b[22m\u001b[39m to `~/.julia/environments/v1.5/Manifest.toml`\n"
     ]
    }
   ],
   "source": [
    "import Pkg;\n",
    "Pkg.add(\"BenchmarkTools\")"
   ]
  },
  {
   "cell_type": "code",
   "execution_count": 7,
   "metadata": {},
   "outputs": [],
   "source": [
    "using BenchmarkTools"
   ]
  },
  {
   "cell_type": "code",
   "execution_count": 8,
   "metadata": {},
   "outputs": [
    {
     "data": {
      "text/plain": [
       "multAx2 (generic function with 1 method)"
      ]
     },
     "execution_count": 8,
     "metadata": {},
     "output_type": "execute_result"
    }
   ],
   "source": [
    "# Funções para calcular y = Ax, fazendo os loops em ordem diferente.\n",
    "# A ideia é fazer o 'for' de j dentro do 'for' de i, e vice-versa.\n",
    "\n",
    "# calcula y = Ax fazendo a iteração de primeiro i, depois j\n",
    "function multAx1(y, A, x)\n",
    "    m, n = size(A)\n",
    "    for i = 1:m\n",
    "        y[i] = 0.0\n",
    "        for j = 1:n\n",
    "            y[i] += A[i,j] * x[j]\n",
    "        end\n",
    "    end\n",
    "end\n",
    "\n",
    "# calcula y = Ax fazendo a iteração de primeiro j, depois i\n",
    "function multAx2(y, A, x)\n",
    "    m, n = size(A)\n",
    "    \n",
    "    for i = 1:m\n",
    "        y[i] = 0.0\n",
    "    end\n",
    "    \n",
    "    for j = 1:n\n",
    "        for i = 1:m\n",
    "            y[i] += A[i,j] * x[j]\n",
    "        end\n",
    "    end\n",
    "end"
   ]
  },
  {
   "cell_type": "code",
   "execution_count": 9,
   "metadata": {},
   "outputs": [
    {
     "data": {
      "text/plain": [
       "1000-element Array{Float64,1}:\n",
       " 0.3345830869337887\n",
       " 0.7567331850149634\n",
       " 0.14960926948328224\n",
       " 0.7861313296303412\n",
       " 0.06213140864185651\n",
       " 0.5168874229552267\n",
       " 0.9385421174041102\n",
       " 0.2745180789221662\n",
       " 0.9401558077229677\n",
       " 0.5339649214974316\n",
       " 0.33074219221550827\n",
       " 0.21852227632453158\n",
       " 0.5827517472563815\n",
       " ⋮\n",
       " 0.587890611160244\n",
       " 0.48290565513465467\n",
       " 0.005349230369154023\n",
       " 0.6689554331511762\n",
       " 0.6626479862026922\n",
       " 0.4860010395826708\n",
       " 0.18168677448170523\n",
       " 0.3417785778679421\n",
       " 0.18189838728141772\n",
       " 0.3677184168633696\n",
       " 0.7140552206934214\n",
       " 0.3693840522810534"
      ]
     },
     "execution_count": 9,
     "metadata": {},
     "output_type": "execute_result"
    }
   ],
   "source": [
    "n = 1000\n",
    "A = rand(n, n)\n",
    "x = rand(n)"
   ]
  },
  {
   "cell_type": "code",
   "execution_count": 10,
   "metadata": {},
   "outputs": [
    {
     "data": {
      "text/plain": [
       "true"
      ]
     },
     "execution_count": 10,
     "metadata": {},
     "output_type": "execute_result"
    }
   ],
   "source": [
    "y1 = zeros(n)\n",
    "y2 = zeros(n)\n",
    "multAx1(y1, A, x)\n",
    "multAx2(y2, A, x)\n",
    "y1 ≈ y2 ≈ A * x"
   ]
  },
  {
   "cell_type": "code",
   "execution_count": 11,
   "metadata": {},
   "outputs": [
    {
     "data": {
      "text/plain": [
       "BenchmarkTools.Trial: \n",
       "  memory estimate:  0 bytes\n",
       "  allocs estimate:  0\n",
       "  --------------\n",
       "  minimum time:     3.417 ms (0.00% GC)\n",
       "  median time:      6.030 ms (0.00% GC)\n",
       "  mean time:        7.087 ms (0.00% GC)\n",
       "  maximum time:     26.370 ms (0.00% GC)\n",
       "  --------------\n",
       "  samples:          706\n",
       "  evals/sample:     1"
      ]
     },
     "execution_count": 11,
     "metadata": {},
     "output_type": "execute_result"
    }
   ],
   "source": [
    "y = zeros(n)\n",
    "@benchmark multAx1(y, $A, $x)"
   ]
  },
  {
   "cell_type": "code",
   "execution_count": 12,
   "metadata": {},
   "outputs": [
    {
     "data": {
      "text/plain": [
       "BenchmarkTools.Trial: \n",
       "  memory estimate:  0 bytes\n",
       "  allocs estimate:  0\n",
       "  --------------\n",
       "  minimum time:     1.226 ms (0.00% GC)\n",
       "  median time:      2.003 ms (0.00% GC)\n",
       "  mean time:        2.564 ms (0.00% GC)\n",
       "  maximum time:     8.742 ms (0.00% GC)\n",
       "  --------------\n",
       "  samples:          1947\n",
       "  evals/sample:     1"
      ]
     },
     "execution_count": 12,
     "metadata": {},
     "output_type": "execute_result"
    }
   ],
   "source": [
    "y = zeros(n)\n",
    "@benchmark multAx2(y, $A, $x)"
   ]
  },
  {
   "cell_type": "markdown",
   "metadata": {},
   "source": [
    "Realizar o loop de j mais externamente e o de i mais internamente auxilia o computador a otimizar os cálculos feitos. Como vemos nos testes de benchmark acima, a função multAx2 foi mais rápida que a função multAx1, somente pela forma como distribuímos a operação de multiplicação. Portanto, é importante atentar-se à forma de escrever as operações."
   ]
  },
  {
   "cell_type": "code",
   "execution_count": 13,
   "metadata": {},
   "outputs": [],
   "source": [
    "using SparseArrays"
   ]
  },
  {
   "cell_type": "code",
   "execution_count": 14,
   "metadata": {},
   "outputs": [
    {
     "data": {
      "text/plain": [
       "10×10 SparseMatrixCSC{Float64,Int64} with 38 stored entries:\n",
       "  [2 ,  1]  =  0.536976\n",
       "  [4 ,  1]  =  0.988429\n",
       "  [5 ,  1]  =  0.756865\n",
       "  [8 ,  1]  =  0.439143\n",
       "  [10,  1]  =  0.0213314\n",
       "  [1 ,  2]  =  0.453316\n",
       "  [4 ,  2]  =  0.274456\n",
       "  [7 ,  2]  =  0.40178\n",
       "  [1 ,  3]  =  0.442188\n",
       "  [3 ,  3]  =  0.65759\n",
       "  [7 ,  3]  =  0.28765\n",
       "  [8 ,  3]  =  0.518579\n",
       "  ⋮\n",
       "  [4 ,  6]  =  0.166482\n",
       "  [5 ,  6]  =  0.600658\n",
       "  [8 ,  6]  =  0.89537\n",
       "  [2 ,  8]  =  0.429552\n",
       "  [4 ,  8]  =  0.00431129\n",
       "  [5 ,  8]  =  0.96587\n",
       "  [7 ,  8]  =  0.42297\n",
       "  [5 ,  9]  =  0.670559\n",
       "  [9 ,  9]  =  0.383742\n",
       "  [3 , 10]  =  0.619325\n",
       "  [4 , 10]  =  0.776877\n",
       "  [5 , 10]  =  0.676678\n",
       "  [10, 10]  =  0.493671"
      ]
     },
     "execution_count": 14,
     "metadata": {},
     "output_type": "execute_result"
    }
   ],
   "source": [
    "A = sprand(10, 10, 0.3)"
   ]
  },
  {
   "cell_type": "code",
   "execution_count": 15,
   "metadata": {},
   "outputs": [
    {
     "data": {
      "text/plain": [
       "([2, 4, 5, 8, 10, 1, 4, 7, 1, 3  …  2, 4, 5, 7, 5, 9, 3, 4, 5, 10], [1, 1, 1, 1, 1, 2, 2, 2, 3, 3  …  8, 8, 8, 8, 9, 9, 10, 10, 10, 10], [0.5369757323509659, 0.9884286984806283, 0.7568650254851217, 0.43914340999589063, 0.021331439787203976, 0.4533158468793741, 0.2744562916500217, 0.40178026641005404, 0.44218750961753006, 0.6575895243264445  …  0.42955177782766607, 0.00431128687706317, 0.9658700136759955, 0.42296974872603954, 0.6705592067705797, 0.38374155620324113, 0.6193251284718935, 0.7768767671102965, 0.6766781546367748, 0.49367059561599236])"
      ]
     },
     "execution_count": 15,
     "metadata": {},
     "output_type": "execute_result"
    }
   ],
   "source": [
    "rows, cols, vals = findnz(A)"
   ]
  },
  {
   "cell_type": "markdown",
   "metadata": {},
   "source": [
    "**Exercício:** Fazer as 6 ordens da $C = AB$."
   ]
  },
  {
   "cell_type": "code",
   "execution_count": 16,
   "metadata": {},
   "outputs": [
    {
     "data": {
      "text/plain": [
       "200"
      ]
     },
     "execution_count": 16,
     "metadata": {},
     "output_type": "execute_result"
    }
   ],
   "source": [
    "n = 100\n",
    "z = 50\n",
    "m = 200"
   ]
  },
  {
   "cell_type": "code",
   "execution_count": 17,
   "metadata": {},
   "outputs": [],
   "source": [
    "A = rand(n, z)\n",
    "B = rand(z, m);"
   ]
  },
  {
   "cell_type": "code",
   "execution_count": 18,
   "metadata": {},
   "outputs": [
    {
     "data": {
      "text/plain": [
       "multAB6 (generic function with 1 method)"
      ]
     },
     "execution_count": 18,
     "metadata": {},
     "output_type": "execute_result"
    }
   ],
   "source": [
    "# Funções para calcular C = AB, fazendo os loops em ordem diferente.\n",
    "\n",
    "# calcula C = AB fazendo a iteração i -> j -> k\n",
    "function multAB1(C, A, B)\n",
    "    # loop para executar a multiplicação dos elementos de A e B\n",
    "    for i = 1:n\n",
    "        for j = 1:m\n",
    "            for k = 1:z\n",
    "                C[i,j] += A[i,k] * B[k,j]\n",
    "            end\n",
    "        end\n",
    "    end\n",
    "end\n",
    "\n",
    "# calcula C = AB fazendo a iteração i -> k -> j\n",
    "function multAB2(C, A, B)\n",
    "    # loop para executar a multiplicação dos elementos de A e B\n",
    "    for i = 1:n\n",
    "        for k = 1:z\n",
    "            for j = 1:m\n",
    "                C[i,j] += A[i,k] * B[k,j]\n",
    "            end\n",
    "        end\n",
    "    end\n",
    "end\n",
    "\n",
    "# calcula C = AB fazendo a iteração k -> i -> j\n",
    "function multAB3(C, A, B)\n",
    "    # loop para executar a multiplicação dos elementos de A e B\n",
    "    for k = 1:z\n",
    "        for i = 1:n\n",
    "            for j = 1:m\n",
    "                C[i,j] += A[i,k] * B[k,j]\n",
    "            end\n",
    "        end\n",
    "    end\n",
    "end\n",
    "\n",
    "# calcula C = AB fazendo a iteração k -> j -> i\n",
    "function multAB4(C, A, B)\n",
    "    # loop para executar a multiplicação dos elementos de A e B\n",
    "    for k = 1:z\n",
    "        for j = 1:m\n",
    "            for i = 1:n\n",
    "                C[i,j] += A[i,k] * B[k,j]\n",
    "            end\n",
    "        end\n",
    "    end\n",
    "end\n",
    "\n",
    "# calcula C = AB fazendo a iteração j -> i -> k\n",
    "function multAB5(C, A, B)\n",
    "    # loop para executar a multiplicação dos elementos de A e B\n",
    "    for j = 1:m\n",
    "        for i = 1:n\n",
    "            for k = 1:z\n",
    "                C[i,j] += A[i,k] * B[k,j]\n",
    "            end\n",
    "        end\n",
    "    end\n",
    "end\n",
    "\n",
    "# calcula C = AB fazendo a iteração j -> k -> i\n",
    "function multAB6(C, A, B)\n",
    "    # loop para executar a multiplicação dos elementos de A e B\n",
    "    for j = 1:m\n",
    "        for k = 1:z\n",
    "            for i = 1:n\n",
    "                C[i,j] += A[i,k] * B[k,j]\n",
    "            end\n",
    "        end\n",
    "    end\n",
    "end"
   ]
  },
  {
   "cell_type": "code",
   "execution_count": 19,
   "metadata": {},
   "outputs": [
    {
     "data": {
      "text/plain": [
       "true"
      ]
     },
     "execution_count": 19,
     "metadata": {},
     "output_type": "execute_result"
    }
   ],
   "source": [
    "C1 = zeros(n, m)\n",
    "C2 = zeros(n, m)\n",
    "C3 = zeros(n, m)\n",
    "C4 = zeros(n, m)\n",
    "C5 = zeros(n, m)\n",
    "C6 = zeros(n, m)\n",
    "\n",
    "multAB1(C1, A, B)\n",
    "multAB2(C2, A, B)\n",
    "multAB3(C3, A, B)\n",
    "multAB4(C4, A, B)\n",
    "multAB5(C5, A, B)\n",
    "multAB6(C6, A, B)\n",
    "\n",
    "C1 ≈ C2 ≈ C3 ≈ C4 ≈ C5 ≈ C6 ≈ A * B"
   ]
  },
  {
   "cell_type": "code",
   "execution_count": 20,
   "metadata": {},
   "outputs": [],
   "source": [
    "C = zeros(n, m);"
   ]
  },
  {
   "cell_type": "code",
   "execution_count": 21,
   "metadata": {},
   "outputs": [
    {
     "data": {
      "text/plain": [
       "BenchmarkTools.Trial: \n",
       "  memory estimate:  108.04 MiB\n",
       "  allocs estimate:  6040201\n",
       "  --------------\n",
       "  minimum time:     294.483 ms (7.75% GC)\n",
       "  median time:      308.019 ms (7.41% GC)\n",
       "  mean time:        310.827 ms (7.20% GC)\n",
       "  maximum time:     330.473 ms (4.74% GC)\n",
       "  --------------\n",
       "  samples:          17\n",
       "  evals/sample:     1"
      ]
     },
     "execution_count": 21,
     "metadata": {},
     "output_type": "execute_result"
    }
   ],
   "source": [
    "@benchmark multAB1(C, $A, $B)"
   ]
  },
  {
   "cell_type": "code",
   "execution_count": 22,
   "metadata": {},
   "outputs": [
    {
     "data": {
      "text/plain": [
       "BenchmarkTools.Trial: \n",
       "  memory estimate:  107.12 MiB\n",
       "  allocs estimate:  6010201\n",
       "  --------------\n",
       "  minimum time:     312.952 ms (5.71% GC)\n",
       "  median time:      341.562 ms (5.80% GC)\n",
       "  mean time:        339.976 ms (6.04% GC)\n",
       "  maximum time:     366.566 ms (8.05% GC)\n",
       "  --------------\n",
       "  samples:          15\n",
       "  evals/sample:     1"
      ]
     },
     "execution_count": 22,
     "metadata": {},
     "output_type": "execute_result"
    }
   ],
   "source": [
    "@benchmark multAB2(C, $A, $B)"
   ]
  },
  {
   "cell_type": "code",
   "execution_count": 23,
   "metadata": {},
   "outputs": [
    {
     "data": {
      "text/plain": [
       "BenchmarkTools.Trial: \n",
       "  memory estimate:  107.12 MiB\n",
       "  allocs estimate:  6010101\n",
       "  --------------\n",
       "  minimum time:     294.372 ms (6.57% GC)\n",
       "  median time:      332.594 ms (6.04% GC)\n",
       "  mean time:        332.730 ms (6.25% GC)\n",
       "  maximum time:     382.852 ms (3.76% GC)\n",
       "  --------------\n",
       "  samples:          16\n",
       "  evals/sample:     1"
      ]
     },
     "execution_count": 23,
     "metadata": {},
     "output_type": "execute_result"
    }
   ],
   "source": [
    "@benchmark multAB3(C, $A, $B)"
   ]
  },
  {
   "cell_type": "code",
   "execution_count": 24,
   "metadata": {},
   "outputs": [
    {
     "data": {
      "text/plain": [
       "BenchmarkTools.Trial: \n",
       "  memory estimate:  107.42 MiB\n",
       "  allocs estimate:  6020101\n",
       "  --------------\n",
       "  minimum time:     204.387 ms (5.49% GC)\n",
       "  median time:      315.686 ms (6.22% GC)\n",
       "  mean time:        305.364 ms (6.95% GC)\n",
       "  maximum time:     524.808 ms (3.06% GC)\n",
       "  --------------\n",
       "  samples:          17\n",
       "  evals/sample:     1"
      ]
     },
     "execution_count": 24,
     "metadata": {},
     "output_type": "execute_result"
    }
   ],
   "source": [
    "@benchmark multAB4(C, $A, $B)"
   ]
  },
  {
   "cell_type": "code",
   "execution_count": 25,
   "metadata": {},
   "outputs": [
    {
     "data": {
      "text/plain": [
       "BenchmarkTools.Trial: \n",
       "  memory estimate:  108.04 MiB\n",
       "  allocs estimate:  6040401\n",
       "  --------------\n",
       "  minimum time:     174.908 ms (5.98% GC)\n",
       "  median time:      181.333 ms (6.14% GC)\n",
       "  mean time:        182.261 ms (7.23% GC)\n",
       "  maximum time:     206.894 ms (7.98% GC)\n",
       "  --------------\n",
       "  samples:          28\n",
       "  evals/sample:     1"
      ]
     },
     "execution_count": 25,
     "metadata": {},
     "output_type": "execute_result"
    }
   ],
   "source": [
    "@benchmark multAB5(C, $A, $B)"
   ]
  },
  {
   "cell_type": "code",
   "execution_count": 26,
   "metadata": {},
   "outputs": [
    {
     "data": {
      "text/plain": [
       "BenchmarkTools.Trial: \n",
       "  memory estimate:  107.43 MiB\n",
       "  allocs estimate:  6020401\n",
       "  --------------\n",
       "  minimum time:     180.923 ms (5.69% GC)\n",
       "  median time:      194.118 ms (5.51% GC)\n",
       "  mean time:        193.406 ms (6.75% GC)\n",
       "  maximum time:     211.403 ms (11.62% GC)\n",
       "  --------------\n",
       "  samples:          26\n",
       "  evals/sample:     1"
      ]
     },
     "execution_count": 26,
     "metadata": {},
     "output_type": "execute_result"
    }
   ],
   "source": [
    "@benchmark multAB6(C, $A, $B)"
   ]
  },
  {
   "cell_type": "markdown",
   "metadata": {},
   "source": [
    "Vemos que o tempo de execução para cada uma das ordens é muito semelhante, assim como a memória e as alocações utilizadas para realizar a operação."
   ]
  },
  {
   "cell_type": "markdown",
   "metadata": {},
   "source": [
    "## Sistemas Lineares"
   ]
  },
  {
   "cell_type": "code",
   "execution_count": 78,
   "metadata": {},
   "outputs": [
    {
     "data": {
      "text/plain": [
       "3-element Array{Float64,1}:\n",
       " 1.443654962294736\n",
       " 1.9619873398663328\n",
       " 2.3366920390946655"
      ]
     },
     "execution_count": 78,
     "metadata": {},
     "output_type": "execute_result"
    }
   ],
   "source": [
    "A = rand(3, 3)\n",
    "b = A * ones(3)"
   ]
  },
  {
   "cell_type": "code",
   "execution_count": 79,
   "metadata": {},
   "outputs": [
    {
     "data": {
      "text/plain": [
       "3-element Array{Float64,1}:\n",
       " 0.9999999999999998\n",
       " 1.0000000000000004\n",
       " 0.9999999999999997"
      ]
     },
     "execution_count": 79,
     "metadata": {},
     "output_type": "execute_result"
    }
   ],
   "source": [
    "# O símbolo \\ resolve sistemas lineares\n",
    "# A \\ b => Ax = b\n",
    "\n",
    "A \\ b"
   ]
  },
  {
   "cell_type": "markdown",
   "metadata": {},
   "source": [
    "Sistema de exemplo:\n",
    "\n",
    "$$ 3x_1+x_2+2x_3 = 6 $$\n",
    "$$ -x_1+2x_2+x_3 = 2 $$\n",
    "$$ x_1+x_2+4x_3 = 6 $$"
   ]
  },
  {
   "cell_type": "code",
   "execution_count": 80,
   "metadata": {},
   "outputs": [
    {
     "data": {
      "text/plain": [
       "3×3 Array{Float64,2}:\n",
       "  3.0  1.0  2.0\n",
       " -1.0  2.0  1.0\n",
       "  1.0  1.0  4.0"
      ]
     },
     "execution_count": 80,
     "metadata": {},
     "output_type": "execute_result"
    }
   ],
   "source": [
    "A = [3.0 1 2; -1 2 1; 1 1 4]"
   ]
  },
  {
   "cell_type": "code",
   "execution_count": 81,
   "metadata": {},
   "outputs": [
    {
     "data": {
      "text/plain": [
       "3-element Array{Float64,1}:\n",
       " 6.0\n",
       " 2.0\n",
       " 6.0"
      ]
     },
     "execution_count": 81,
     "metadata": {},
     "output_type": "execute_result"
    }
   ],
   "source": [
    "b = A * ones(3)"
   ]
  },
  {
   "cell_type": "code",
   "execution_count": 82,
   "metadata": {},
   "outputs": [
    {
     "data": {
      "text/plain": [
       "0.0"
      ]
     },
     "execution_count": 82,
     "metadata": {},
     "output_type": "execute_result"
    }
   ],
   "source": [
    "m21 = A[2, 1] / A[1, 1]\n",
    "m31 = A[3, 1] / A[1, 1]\n",
    "\n",
    "# L₂ = A[2, :], L₃ = A[3, :]\n",
    "A[2, 2:end] = A[2, 2:end] - m21 * A[1, 2:end]\n",
    "A[2, 1] = 0.0\n",
    "A[3, 2:end] = A[3, 2:end] - m31 * A[1, 2:end]\n",
    "A[3, 1] = 0.0"
   ]
  },
  {
   "cell_type": "code",
   "execution_count": 83,
   "metadata": {},
   "outputs": [
    {
     "data": {
      "text/plain": [
       "4.0"
      ]
     },
     "execution_count": 83,
     "metadata": {},
     "output_type": "execute_result"
    }
   ],
   "source": [
    "b[2] = b[2] - m21 * b[1]\n",
    "b[3] = b[3] - m31 * b[1]"
   ]
  },
  {
   "cell_type": "code",
   "execution_count": 84,
   "metadata": {},
   "outputs": [
    {
     "data": {
      "text/plain": [
       "3×3 Array{Float64,2}:\n",
       " 3.0  1.0       2.0\n",
       " 0.0  2.33333   1.66667\n",
       " 0.0  0.666667  3.33333"
      ]
     },
     "execution_count": 84,
     "metadata": {},
     "output_type": "execute_result"
    }
   ],
   "source": [
    "A"
   ]
  },
  {
   "cell_type": "code",
   "execution_count": 85,
   "metadata": {},
   "outputs": [
    {
     "data": {
      "text/plain": [
       "3-element Array{Float64,1}:\n",
       " 6.0\n",
       " 4.0\n",
       " 4.0"
      ]
     },
     "execution_count": 85,
     "metadata": {},
     "output_type": "execute_result"
    }
   ],
   "source": [
    "b"
   ]
  },
  {
   "cell_type": "code",
   "execution_count": 86,
   "metadata": {},
   "outputs": [
    {
     "data": {
      "text/plain": [
       "3-element Array{Float64,1}:\n",
       " 1.0\n",
       " 1.0000000000000002\n",
       " 0.9999999999999999"
      ]
     },
     "execution_count": 86,
     "metadata": {},
     "output_type": "execute_result"
    }
   ],
   "source": [
    "A \\ b"
   ]
  },
  {
   "cell_type": "code",
   "execution_count": 87,
   "metadata": {},
   "outputs": [
    {
     "data": {
      "text/plain": [
       "3×3 Array{Float64,2}:\n",
       " 3.0  1.0      2.0\n",
       " 0.0  2.33333  1.66667\n",
       " 0.0  0.0      2.85714"
      ]
     },
     "execution_count": 87,
     "metadata": {},
     "output_type": "execute_result"
    }
   ],
   "source": [
    "m32 = A[3, 2] / A[2, 2]\n",
    "A[3, 3:end] -= m32 * A[2, 3:end]\n",
    "A[3, 2] = 0.0\n",
    "b[3] -= m32 * b[2]\n",
    "\n",
    "A"
   ]
  },
  {
   "cell_type": "code",
   "execution_count": 88,
   "metadata": {},
   "outputs": [
    {
     "data": {
      "text/plain": [
       "3-element Array{Float64,1}:\n",
       " 6.0\n",
       " 4.0\n",
       " 2.8571428571428568"
      ]
     },
     "execution_count": 88,
     "metadata": {},
     "output_type": "execute_result"
    }
   ],
   "source": [
    "b"
   ]
  },
  {
   "cell_type": "code",
   "execution_count": 89,
   "metadata": {},
   "outputs": [
    {
     "data": {
      "text/plain": [
       "3-element Array{Float64,1}:\n",
       " 1.0\n",
       " 1.0000000000000002\n",
       " 0.9999999999999999"
      ]
     },
     "execution_count": 89,
     "metadata": {},
     "output_type": "execute_result"
    }
   ],
   "source": [
    "A \\ b"
   ]
  },
  {
   "cell_type": "code",
   "execution_count": 111,
   "metadata": {},
   "outputs": [
    {
     "data": {
      "text/plain": [
       "elim_gauss!"
      ]
     },
     "execution_count": 111,
     "metadata": {},
     "output_type": "execute_result"
    }
   ],
   "source": [
    "\"\"\"\n",
    "    elim_gauss!(A, b)\n",
    "\n",
    "Modifica A e b, fazendo a eliminição Gaussiana.\n",
    "\"\"\"\n",
    "function elim_gauss!(A, b)\n",
    "    m, n = size(A)\n",
    "    for j = 1:n\n",
    "        cols = j+1:n\n",
    "        for i = j+1:m\n",
    "            mij = A[i, j] / A[j, j]\n",
    "            A[i, cols] -= mij * A[j, cols]\n",
    "            A[i, j] = 0.0\n",
    "            b[i] -= mij * b[j]\n",
    "        end\n",
    "    end\n",
    "end"
   ]
  },
  {
   "cell_type": "code",
   "execution_count": 122,
   "metadata": {},
   "outputs": [
    {
     "data": {
      "text/plain": [
       "5-element Array{Float64,1}:\n",
       " 2.508337925815863\n",
       " 3.45912418740253\n",
       " 2.596761362611476\n",
       " 2.805078163100073\n",
       " 1.2515199771959236"
      ]
     },
     "execution_count": 122,
     "metadata": {},
     "output_type": "execute_result"
    }
   ],
   "source": [
    "A = rand(5, 5)\n",
    "#A[:, 3] = A[:, 2] + 2 * A[:, 5]\n",
    "#A[3, :] = A[2, :] + 2 * A[5, :]\n",
    "\n",
    "b = A * ones(5)"
   ]
  },
  {
   "cell_type": "code",
   "execution_count": 123,
   "metadata": {},
   "outputs": [
    {
     "data": {
      "text/plain": [
       "5×5 Array{Float64,2}:\n",
       " 0.267282  0.943105   0.282297    0.133495   0.882159\n",
       " 0.605524  0.969112   0.776569    0.992787   0.115133\n",
       " 0.283128  0.660092   0.532521    0.625996   0.495025\n",
       " 0.789228  0.666978   0.563379    0.450264   0.335229\n",
       " 0.732806  0.0787155  0.00785031  0.0187582  0.41339"
      ]
     },
     "execution_count": 123,
     "metadata": {},
     "output_type": "execute_result"
    }
   ],
   "source": [
    "A"
   ]
  },
  {
   "cell_type": "code",
   "execution_count": 124,
   "metadata": {},
   "outputs": [],
   "source": [
    "elim_gauss!(A, b)"
   ]
  },
  {
   "cell_type": "code",
   "execution_count": 125,
   "metadata": {},
   "outputs": [
    {
     "data": {
      "text/plain": [
       "5×5 Array{Float64,2}:\n",
       " 0.267282   0.943105  0.282297   0.133495   0.882159\n",
       " 0.0       -1.16748   0.137029   0.690354  -1.88339\n",
       " 0.0        0.0       0.193708   0.284175   0.107322\n",
       " 0.0        0.0       0.0       -0.435198   1.43428\n",
       " 0.0        0.0       0.0        0.0        1.72325"
      ]
     },
     "execution_count": 125,
     "metadata": {},
     "output_type": "execute_result"
    }
   ],
   "source": [
    "A"
   ]
  },
  {
   "cell_type": "code",
   "execution_count": 126,
   "metadata": {},
   "outputs": [
    {
     "data": {
      "text/plain": [
       "5-element Array{Float64,1}:\n",
       "  2.508337925815863\n",
       " -2.2234899104312165\n",
       "  0.5852046231948549\n",
       "  0.9990825311015119\n",
       "  1.723247772696765"
      ]
     },
     "execution_count": 126,
     "metadata": {},
     "output_type": "execute_result"
    }
   ],
   "source": [
    " b"
   ]
  }
 ],
 "metadata": {
  "kernelspec": {
   "display_name": "Julia 1.5.3",
   "language": "julia",
   "name": "julia-1.5"
  },
  "language_info": {
   "file_extension": ".jl",
   "mimetype": "application/julia",
   "name": "julia",
   "version": "1.5.3"
  }
 },
 "nbformat": 4,
 "nbformat_minor": 2
}
